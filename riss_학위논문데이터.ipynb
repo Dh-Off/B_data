{
 "cells": [
  {
   "cell_type": "code",
   "execution_count": 24,
   "metadata": {},
   "outputs": [],
   "source": [
    "from bs4 import BeautifulSoup\n",
    "from selenium import webdriver\n",
    "import os,sys,math,time\n",
    "\n",
    "def scroll_down(driver):   #스크롤 다운\n",
    "    driver.execute_script('window.scrollTo(0,document.body.scrollHeight);')\n",
    "\n",
    "path = 'd:/py_temp/chromedriver.exe'\n",
    "driver = webdriver.Chrome(path)\n",
    "\n",
    "query = input(\"찾을 검색어 입력 : \")\n",
    "f_name = 'd:/py_temp/riss_학위논문리스트.txt'\n",
    "\n",
    "driver.get('http://www.riss.kr')\n",
    "\n",
    "time.sleep(2)\n",
    "driver.maximize_window()\n",
    "\n",
    "time.sleep(1)\n",
    "driver.find_element('id','query').send_keys(query+'\\n')\n",
    "\n",
    "time.sleep(1)\n",
    "driver.find_element('link text','학위논문').click()\n",
    "\n",
    "html = driver.page_source\n",
    "soup = BeautifulSoup(html,'html.parser')\n",
    "\n",
    "view_list = soup.find('div','srchResultListW').find_all('div','cont ml60')\n",
    "    \n",
    "time.sleep(1)\n",
    "scroll_down(driver)\n",
    "\n",
    "\"\"\"\n",
    "for i in view_list:\n",
    "    f = open(f_name,'a',encoding='UTF-8')\n",
    "    contents = i.find('p','title').get_text()\n",
    "    f.write(str(no)+': 내용 : '+contents+'\\n')\n",
    "    print(no,': 내용 : ',contents)\n",
    "    \n",
    "    f.close()\n",
    "    no += 1\n",
    "    time.sleep(1)\n",
    "    \n",
    "time.sleep(1)\n",
    "\"\"\"\n",
    "#a = soup.find('div','paging').find_all('a','num')\n",
    "time.sleep(1)\n",
    "driver.find_element('link text','2').click()\n",
    "\n",
    "time.sleep(1)\n",
    "scroll_down(driver)\n",
    "\n",
    "#time.sleep(2)\n",
    "#driver.close()"
   ]
  }
 ],
 "metadata": {
  "kernelspec": {
   "display_name": "base",
   "language": "python",
   "name": "python3"
  },
  "language_info": {
   "codemirror_mode": {
    "name": "ipython",
    "version": 3
   },
   "file_extension": ".py",
   "mimetype": "text/x-python",
   "name": "python",
   "nbconvert_exporter": "python",
   "pygments_lexer": "ipython3",
   "version": "3.10.8"
  },
  "orig_nbformat": 4,
  "vscode": {
   "interpreter": {
    "hash": "5a356e9517e14dc2ad259a2123438b15b3972e1e2b3dbfde245c14a47e88b3a8"
   }
  }
 },
 "nbformat": 4,
 "nbformat_minor": 2
}
