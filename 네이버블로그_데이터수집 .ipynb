{
 "cells": [
  {
   "cell_type": "code",
   "execution_count": 9,
   "metadata": {},
   "outputs": [
    {
     "ename": "AttributeError",
     "evalue": "'NoneType' object has no attribute 'find_all'",
     "output_type": "error",
     "traceback": [
      "\u001b[1;31m---------------------------------------------------------------------------\u001b[0m",
      "\u001b[1;31mAttributeError\u001b[0m                            Traceback (most recent call last)",
      "Cell \u001b[1;32mIn[9], line 31\u001b[0m\n\u001b[0;32m     29\u001b[0m html \u001b[39m=\u001b[39m driver\u001b[39m.\u001b[39mpage_source\n\u001b[0;32m     30\u001b[0m soup \u001b[39m=\u001b[39m BeautifulSoup(\u001b[39m'\u001b[39m\u001b[39mhtml\u001b[39m\u001b[39m'\u001b[39m,\u001b[39m'\u001b[39m\u001b[39mhtml.parser\u001b[39m\u001b[39m'\u001b[39m)\n\u001b[1;32m---> 31\u001b[0m view_list \u001b[39m=\u001b[39m soup\u001b[39m.\u001b[39;49mfind(\u001b[39m'\u001b[39;49m\u001b[39mul\u001b[39;49m\u001b[39m'\u001b[39;49m,\u001b[39m'\u001b[39;49m\u001b[39mlst_total _list_base\u001b[39;49m\u001b[39m'\u001b[39;49m)\u001b[39m.\u001b[39;49mfind_all(\u001b[39m'\u001b[39m\u001b[39mli\u001b[39m\u001b[39m'\u001b[39m)\n\u001b[0;32m     33\u001b[0m no \u001b[39m=\u001b[39m \u001b[39m1\u001b[39m\n\u001b[0;32m     34\u001b[0m \u001b[39mfor\u001b[39;00m i \u001b[39min\u001b[39;00m view_list:\n",
      "\u001b[1;31mAttributeError\u001b[0m: 'NoneType' object has no attribute 'find_all'"
     ]
    }
   ],
   "source": [
    "from bs4 import BeautifulSoup\n",
    "from selenium import webdriver\n",
    "import os, sys, math, time\n",
    "\n",
    "path = 'd:/py_temp/chromedriver.exe'\n",
    "driver = webdriver.Chrome(path)\n",
    "\n",
    "query = '빅데이터'\n",
    "cnt = 90\n",
    "page_cnt = math.ceil(cnt/30)\n",
    "s_date = '20220101'\n",
    "e_date = '20221231'\n",
    "f_name = 'd:/py_temp/naver.txt'\n",
    "\n",
    "q_link = 'https://search.naver.com/search.naver?where=view&query='+query+'&sm=tab_opt&nso='\n",
    "q_link += 'so%3Ar%2Cp%3Afrom' + s_date + 'to' + e_date + '%2Ca%3Aall&mode=normal&main_q=&st_coll=&topic_r_cat='\n",
    "\n",
    "driver.get(q_link)\n",
    "\n",
    "def scroll_down(driver):\n",
    "    driver.execute_script(\"window.scrollTo(0,document.body.scrollHeight);\")\n",
    "    time.sleep(2)\n",
    "\n",
    "i = 1\n",
    "while i <= page_cnt:\n",
    "    scroll_down(driver)\n",
    "    i += 1\n",
    "\n",
    "html = driver.page_source\n",
    "soup = BeautifulSoup('html','html.parser')\n",
    "view_list = soup.find('ul','lst_total _list_base').find_all('li')\n",
    "\n",
    "no = 1\n",
    "for i in view_list:\n",
    "    f = open(f_name,'a',encoding='UTF-8')\n",
    "    contents = i.find('div','total_wrap api_ani_send').get_text()\n",
    "    f.write(str(no)+': 내용 :'+str(contents)+'\\n')\n",
    "    print(no,':내용: %s' %contents)\n",
    "    f.close()\n",
    "    \n",
    "    no += 1\n",
    "    if no > cnt:\n",
    "        break\n",
    "    \n",
    "    print('\\n')\n",
    "    time.sleep(2)\n",
    "    \n",
    "time.sleep(2)\n",
    "driver.close()"
   ]
  }
 ],
 "metadata": {
  "kernelspec": {
   "display_name": "base",
   "language": "python",
   "name": "python3"
  },
  "language_info": {
   "codemirror_mode": {
    "name": "ipython",
    "version": 3
   },
   "file_extension": ".py",
   "mimetype": "text/x-python",
   "name": "python",
   "nbconvert_exporter": "python",
   "pygments_lexer": "ipython3",
   "version": "3.10.8"
  },
  "orig_nbformat": 4,
  "vscode": {
   "interpreter": {
    "hash": "5a356e9517e14dc2ad259a2123438b15b3972e1e2b3dbfde245c14a47e88b3a8"
   }
  }
 },
 "nbformat": 4,
 "nbformat_minor": 2
}
