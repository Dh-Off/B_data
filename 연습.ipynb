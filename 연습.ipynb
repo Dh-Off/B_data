{
 "cells": [
  {
   "cell_type": "code",
   "execution_count": 1,
   "metadata": {},
   "outputs": [],
   "source": [
    "from bs4 import BeautifulSoup\n",
    "from selenium import webdriver\n",
    "import time, os, sys, math\n",
    "\n",
    "path = 'd:/py_temp/chromedriver.exe'\n",
    "driver = webdriver.Chrome(path)\n",
    "\n",
    "query = input(\"원하는 검색어 입력 : \")\n",
    "f_name = 'd:/py_temp/새로운_텍스트.txt'\n",
    "\n",
    "driver.get('https://www.naver.com')  #원하는 경로\n",
    "\n",
    "time.sleep(1)\n",
    "driver.maximize_window() #최대창\n",
    "\n",
    "time.sleep(1)\n",
    "driver.find_element('태그','속성값').send_keys(query+'\\n') #입력한 검색어로 키워드 찾기\n",
    "\n",
    "time.sleep(1)\n",
    "driver.find_element('태그','속성값').click() #엘리먼트로 키워드 찾아서 클릭\n",
    "\n",
    "#페이지 찾았으면\n",
    "html = driver.page_source\n",
    "soup = BeautifulSoup(html,'html.parser')\n",
    "\n",
    "view_list = soup.find('태그','속성값').find_all('태그','속성값')  #특정태그값 찾기전 사전경로\n",
    "\n",
    "no = 1\n",
    "for i in view_list:\n",
    "    f = open(f_name,'a',encoding='UTF-8')\n",
    "    contents = i.find('태그','속성값').get_text()  #contents에 메모장에 저장할 값 선택\n",
    "    f.write(str(no) + ': 내용 : ' + contents)\n",
    "    print(no+': 내용 : '+contents)\n",
    "    \n",
    "    f.close()\n",
    "    no += 1\n",
    "    \n",
    "def scroll_down(driver):  #스크롤 맨 밑으로내리기\n",
    "    driver.execute_script('window.scrollTo(0,document.body.scrollHeight);')\n",
    "    time.sleep(2)\n",
    "#scroll_down(driver)\n",
    "    \n",
    "time.sleep(1)\n",
    "driver.close"
   ]
  },
  {
   "cell_type": "code",
   "execution_count": null,
   "metadata": {},
   "outputs": [],
   "source": [
    "#웹페이지 팝업창 닫기\n",
    "\n",
    "main = driver.window_handles  #팝언핸들\n",
    "\n",
    "for handle in main:   #팝업창 전부 닫기\n",
    "    if handle != main:\n",
    "        driver.switch_to.window(handle) \n",
    "        driver.close()\n",
    "\n",
    "driver.switch_to.window(driver.window_handles[0])      #원래 창으로 돌아가기"
   ]
  },
  {
   "cell_type": "code",
   "execution_count": null,
   "metadata": {},
   "outputs": [],
   "source": []
  }
 ],
 "metadata": {
  "kernelspec": {
   "display_name": "base",
   "language": "python",
   "name": "python3"
  },
  "language_info": {
   "codemirror_mode": {
    "name": "ipython",
    "version": 3
   },
   "file_extension": ".py",
   "mimetype": "text/x-python",
   "name": "python",
   "nbconvert_exporter": "python",
   "pygments_lexer": "ipython3",
   "version": "3.10.8"
  },
  "orig_nbformat": 4,
  "vscode": {
   "interpreter": {
    "hash": "5a356e9517e14dc2ad259a2123438b15b3972e1e2b3dbfde245c14a47e88b3a8"
   }
  }
 },
 "nbformat": 4,
 "nbformat_minor": 2
}
